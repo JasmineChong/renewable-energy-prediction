{
 "cells": [
  {
   "cell_type": "markdown",
   "id": "779d443f",
   "metadata": {},
   "source": [
    "## Which type of renewable has the highest growth rate?"
   ]
  },
  {
   "cell_type": "code",
   "execution_count": 1,
   "id": "ca9c40b4",
   "metadata": {},
   "outputs": [],
   "source": [
    "import numpy as np\n",
    "import pandas as pd\n",
    "import matplotlib.pyplot as plt"
   ]
  },
  {
   "cell_type": "code",
   "execution_count": 2,
   "id": "232e2b41",
   "metadata": {},
   "outputs": [
    {
     "data": {
      "text/html": [
       "<div>\n",
       "<style scoped>\n",
       "    .dataframe tbody tr th:only-of-type {\n",
       "        vertical-align: middle;\n",
       "    }\n",
       "\n",
       "    .dataframe tbody tr th {\n",
       "        vertical-align: top;\n",
       "    }\n",
       "\n",
       "    .dataframe thead th {\n",
       "        text-align: right;\n",
       "    }\n",
       "</style>\n",
       "<table border=\"1\" class=\"dataframe\">\n",
       "  <thead>\n",
       "    <tr style=\"text-align: right;\">\n",
       "      <th></th>\n",
       "      <th>Year</th>\n",
       "      <th>Hydro(TWh)</th>\n",
       "      <th>Biofuel(TWh)</th>\n",
       "      <th>Solar PV (TWh)</th>\n",
       "      <th>Geothermal (TWh)</th>\n",
       "    </tr>\n",
       "  </thead>\n",
       "  <tbody>\n",
       "    <tr>\n",
       "      <th>0</th>\n",
       "      <td>1990</td>\n",
       "      <td>2191.67</td>\n",
       "      <td>3.88</td>\n",
       "      <td>0.09</td>\n",
       "      <td>36.42</td>\n",
       "    </tr>\n",
       "    <tr>\n",
       "      <th>1</th>\n",
       "      <td>1991</td>\n",
       "      <td>2268.63</td>\n",
       "      <td>4.19</td>\n",
       "      <td>0.10</td>\n",
       "      <td>37.39</td>\n",
       "    </tr>\n",
       "    <tr>\n",
       "      <th>2</th>\n",
       "      <td>1992</td>\n",
       "      <td>2267.16</td>\n",
       "      <td>4.63</td>\n",
       "      <td>0.12</td>\n",
       "      <td>39.30</td>\n",
       "    </tr>\n",
       "    <tr>\n",
       "      <th>3</th>\n",
       "      <td>1993</td>\n",
       "      <td>2397.67</td>\n",
       "      <td>5.61</td>\n",
       "      <td>0.15</td>\n",
       "      <td>40.23</td>\n",
       "    </tr>\n",
       "    <tr>\n",
       "      <th>4</th>\n",
       "      <td>1994</td>\n",
       "      <td>2419.73</td>\n",
       "      <td>7.31</td>\n",
       "      <td>0.17</td>\n",
       "      <td>41.05</td>\n",
       "    </tr>\n",
       "  </tbody>\n",
       "</table>\n",
       "</div>"
      ],
      "text/plain": [
       "   Year  Hydro(TWh)  Biofuel(TWh)  Solar PV (TWh)  Geothermal (TWh)\n",
       "0  1990     2191.67          3.88            0.09             36.42\n",
       "1  1991     2268.63          4.19            0.10             37.39\n",
       "2  1992     2267.16          4.63            0.12             39.30\n",
       "3  1993     2397.67          5.61            0.15             40.23\n",
       "4  1994     2419.73          7.31            0.17             41.05"
      ]
     },
     "execution_count": 2,
     "metadata": {},
     "output_type": "execute_result"
    }
   ],
   "source": [
    "# load dataset\n",
    "\n",
    "df = pd.read_csv('Global_Energy_Consumption_Renewable_Generation/renewablePowerGeneration97-17.csv')\n",
    "df.head()"
   ]
  },
  {
   "cell_type": "code",
   "execution_count": 4,
   "id": "d5b8c317",
   "metadata": {},
   "outputs": [],
   "source": [
    "# separate each renewable type into their own dataframe\n",
    "\n",
    "df_hydro = df[['Year', 'Hydro(TWh)']].copy()\n",
    "df_bio = df[['Year', 'Biofuel(TWh)']].copy()\n",
    "df_solar = df[['Year', 'Solar PV (TWh)']].copy()\n",
    "df_geo = df[['Year', 'Geothermal (TWh)']].copy()"
   ]
  },
  {
   "cell_type": "code",
   "execution_count": 5,
   "id": "598abc93",
   "metadata": {},
   "outputs": [],
   "source": [
    "# calculate the percentage change yearly for each renewable type\n",
    "        \n",
    "def annualGrowth (lst):\n",
    "    # initialise 4 empty data frames into a list\n",
    "    a = pd.DataFrame()\n",
    "    new_df_lst = [a]*4\n",
    "    \n",
    "    col_name = ['Hydro(TWh)', 'Biofuel(TWh)', 'Solar PV (TWh)', 'Geothermal (TWh)']\n",
    "    \n",
    "    # calaculate perceantage change (pct) year to year for each renewable type\n",
    "    for i in range(len(lst)):\n",
    "        new_df_lst[i] = lst[i][col_name[i]].pct_change()\n",
    "        new_df_lst[i] *= 100\n",
    "        \n",
    "    return new_df_lst[0], new_df_lst[1], new_df_lst[2], new_df_lst[3]\n",
    "        "
   ]
  },
  {
   "cell_type": "code",
   "execution_count": 6,
   "id": "c281f584",
   "metadata": {},
   "outputs": [
    {
     "data": {
      "image/png": "[encoded data removed]",
      "text/plain": [
       "<Figure size 432x288 with 1 Axes>"
      ]
     },
     "metadata": {
      "needs_background": "light"
     },
     "output_type": "display_data"
    }
   ],
   "source": [
    "# store each df in a list\n",
    "lst = [df_hydro, df_bio, df_solar, df_geo]\n",
    "\n",
    "# compute annual growth rate for each renewable\n",
    "ag_hydro, ag_bio, ag_solar, ag_geo = annualGrowth(lst)\n",
    "\n",
    "# calculate the mean of annual growth\n",
    "ag_hydro_mean = ag_hydro.mean()\n",
    "ag_bio_mean = ag_bio.mean()\n",
    "ag_solar_mean = ag_solar.mean()\n",
    "ag_geo_mean = ag_geo.mean()\n",
    "\n",
    "# transform data into a dataframe\n",
    "data = {'Renewable energy Types': ['Hydro', 'Biofuel', 'Solar PV', 'Geothermal'],\n",
    "        'Annual Growth Mean (%)': [ag_hydro_mean, ag_bio_mean, ag_solar_mean, ag_geo_mean]}\n",
    "df_ag_mean = pd.DataFrame(data)\n",
    "\n",
    "# plot the data in the dataframe using bar chart\n",
    "df_ag_mean.plot(kind = 'bar', x='Renewable energy Types', y = 'Annual Growth Mean (%)')\n",
    "plt.ylabel('Annual Growth Mean (%)')\n",
    "plt.show()"
   ]
  }
 ],
 "metadata": {
  "kernelspec": {
   "display_name": "Python 3 (ipykernel)",
   "language": "python",
   "name": "python3"
  },
  "language_info": {
   "codemirror_mode": {
    "name": "ipython",
    "version": 3
   },
   "file_extension": ".py",
   "mimetype": "text/x-python",
   "name": "python",
   "nbconvert_exporter": "python",
   "pygments_lexer": "ipython3",
   "version": "3.9.16"
  }
 },
 "nbformat": 4,
 "nbformat_minor": 5
}
